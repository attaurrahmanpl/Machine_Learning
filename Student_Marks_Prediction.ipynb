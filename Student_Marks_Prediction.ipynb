{
 "cells": [
  {
   "cell_type": "markdown",
   "id": "24e7853e",
   "metadata": {},
   "source": [
    "# Bussiness Problem"
   ]
  },
  {
   "cell_type": "code",
   "execution_count": 28,
   "id": "8b7f4007",
   "metadata": {},
   "outputs": [],
   "source": [
    "# import Libraries\n",
    "import numpy as np\n",
    "import matplotlib.pyplot as plt\n",
    "import pandas as pd\n"
   ]
  },
  {
   "cell_type": "code",
   "execution_count": 29,
   "id": "322647ab",
   "metadata": {},
   "outputs": [],
   "source": [
    "data = pd.read_csv(data2 = pd.read_csv("https://raw.githubusercontent.com/attaurrahmanpl/Machine_Learning/main/student_info.csv"))"
   ]
  },
  {
   "cell_type": "code",
   "execution_count": 30,
   "id": "96fa5289",
   "metadata": {},
   "outputs": [
    {
     "data": {
      "text/html": [
       "<div>\n",
       "<style scoped>\n",
       "    .dataframe tbody tr th:only-of-type {\n",
       "        vertical-align: middle;\n",
       "    }\n",
       "\n",
       "    .dataframe tbody tr th {\n",
       "        vertical-align: top;\n",
       "    }\n",
       "\n",
       "    .dataframe thead th {\n",
       "        text-align: right;\n",
       "    }\n",
       "</style>\n",
       "<table border=\"1\" class=\"dataframe\">\n",
       "  <thead>\n",
       "    <tr style=\"text-align: right;\">\n",
       "      <th></th>\n",
       "      <th>study_hours</th>\n",
       "      <th>student_marks</th>\n",
       "    </tr>\n",
       "  </thead>\n",
       "  <tbody>\n",
       "    <tr>\n",
       "      <th>0</th>\n",
       "      <td>6.83</td>\n",
       "      <td>78.50</td>\n",
       "    </tr>\n",
       "    <tr>\n",
       "      <th>1</th>\n",
       "      <td>6.56</td>\n",
       "      <td>76.74</td>\n",
       "    </tr>\n",
       "    <tr>\n",
       "      <th>2</th>\n",
       "      <td>NaN</td>\n",
       "      <td>78.68</td>\n",
       "    </tr>\n",
       "    <tr>\n",
       "      <th>3</th>\n",
       "      <td>5.67</td>\n",
       "      <td>71.82</td>\n",
       "    </tr>\n",
       "    <tr>\n",
       "      <th>4</th>\n",
       "      <td>8.67</td>\n",
       "      <td>84.19</td>\n",
       "    </tr>\n",
       "  </tbody>\n",
       "</table>\n",
       "</div>"
      ],
      "text/plain": [
       "   study_hours  student_marks\n",
       "0         6.83          78.50\n",
       "1         6.56          76.74\n",
       "2          NaN          78.68\n",
       "3         5.67          71.82\n",
       "4         8.67          84.19"
      ]
     },
     "execution_count": 30,
     "metadata": {},
     "output_type": "execute_result"
    }
   ],
   "source": [
    "# first five records \n",
    "data.head()"
   ]
  },
  {
   "cell_type": "code",
   "execution_count": 31,
   "id": "878c2ea4",
   "metadata": {},
   "outputs": [
    {
     "data": {
      "text/html": [
       "<div>\n",
       "<style scoped>\n",
       "    .dataframe tbody tr th:only-of-type {\n",
       "        vertical-align: middle;\n",
       "    }\n",
       "\n",
       "    .dataframe tbody tr th {\n",
       "        vertical-align: top;\n",
       "    }\n",
       "\n",
       "    .dataframe thead th {\n",
       "        text-align: right;\n",
       "    }\n",
       "</style>\n",
       "<table border=\"1\" class=\"dataframe\">\n",
       "  <thead>\n",
       "    <tr style=\"text-align: right;\">\n",
       "      <th></th>\n",
       "      <th>study_hours</th>\n",
       "      <th>student_marks</th>\n",
       "    </tr>\n",
       "  </thead>\n",
       "  <tbody>\n",
       "    <tr>\n",
       "      <th>195</th>\n",
       "      <td>7.53</td>\n",
       "      <td>81.67</td>\n",
       "    </tr>\n",
       "    <tr>\n",
       "      <th>196</th>\n",
       "      <td>8.56</td>\n",
       "      <td>84.68</td>\n",
       "    </tr>\n",
       "    <tr>\n",
       "      <th>197</th>\n",
       "      <td>8.94</td>\n",
       "      <td>86.75</td>\n",
       "    </tr>\n",
       "    <tr>\n",
       "      <th>198</th>\n",
       "      <td>6.60</td>\n",
       "      <td>78.05</td>\n",
       "    </tr>\n",
       "    <tr>\n",
       "      <th>199</th>\n",
       "      <td>8.35</td>\n",
       "      <td>83.50</td>\n",
       "    </tr>\n",
       "  </tbody>\n",
       "</table>\n",
       "</div>"
      ],
      "text/plain": [
       "     study_hours  student_marks\n",
       "195         7.53          81.67\n",
       "196         8.56          84.68\n",
       "197         8.94          86.75\n",
       "198         6.60          78.05\n",
       "199         8.35          83.50"
      ]
     },
     "execution_count": 31,
     "metadata": {},
     "output_type": "execute_result"
    }
   ],
   "source": [
    "# last five records\n",
    "data.tail()"
   ]
  },
  {
   "cell_type": "code",
   "execution_count": 32,
   "id": "21cc9a99",
   "metadata": {},
   "outputs": [
    {
     "data": {
      "text/plain": [
       "(200, 2)"
      ]
     },
     "execution_count": 32,
     "metadata": {},
     "output_type": "execute_result"
    }
   ],
   "source": [
    "# the shape function show all the records and feature number of the data\n",
    "data.shape"
   ]
  },
  {
   "cell_type": "markdown",
   "id": "3524a969",
   "metadata": {},
   "source": [
    "# \\# Visulize the data to gain insights"
   ]
  },
  {
   "cell_type": "code",
   "execution_count": 33,
   "id": "54c6515d",
   "metadata": {},
   "outputs": [
    {
     "name": "stdout",
     "output_type": "stream",
     "text": [
      "<class 'pandas.core.frame.DataFrame'>\n",
      "RangeIndex: 200 entries, 0 to 199\n",
      "Data columns (total 2 columns):\n",
      " #   Column         Non-Null Count  Dtype  \n",
      "---  ------         --------------  -----  \n",
      " 0   study_hours    195 non-null    float64\n",
      " 1   student_marks  200 non-null    float64\n",
      "dtypes: float64(2)\n",
      "memory usage: 3.2 KB\n"
     ]
    }
   ],
   "source": [
    "data.info()"
   ]
  },
  {
   "cell_type": "code",
   "execution_count": 34,
   "id": "bf7517c7",
   "metadata": {},
   "outputs": [
    {
     "data": {
      "text/html": [
       "<div>\n",
       "<style scoped>\n",
       "    .dataframe tbody tr th:only-of-type {\n",
       "        vertical-align: middle;\n",
       "    }\n",
       "\n",
       "    .dataframe tbody tr th {\n",
       "        vertical-align: top;\n",
       "    }\n",
       "\n",
       "    .dataframe thead th {\n",
       "        text-align: right;\n",
       "    }\n",
       "</style>\n",
       "<table border=\"1\" class=\"dataframe\">\n",
       "  <thead>\n",
       "    <tr style=\"text-align: right;\">\n",
       "      <th></th>\n",
       "      <th>study_hours</th>\n",
       "      <th>student_marks</th>\n",
       "    </tr>\n",
       "  </thead>\n",
       "  <tbody>\n",
       "    <tr>\n",
       "      <th>count</th>\n",
       "      <td>195.000000</td>\n",
       "      <td>200.00000</td>\n",
       "    </tr>\n",
       "    <tr>\n",
       "      <th>mean</th>\n",
       "      <td>6.995949</td>\n",
       "      <td>77.93375</td>\n",
       "    </tr>\n",
       "    <tr>\n",
       "      <th>std</th>\n",
       "      <td>1.253060</td>\n",
       "      <td>4.92570</td>\n",
       "    </tr>\n",
       "    <tr>\n",
       "      <th>min</th>\n",
       "      <td>5.010000</td>\n",
       "      <td>68.57000</td>\n",
       "    </tr>\n",
       "    <tr>\n",
       "      <th>25%</th>\n",
       "      <td>5.775000</td>\n",
       "      <td>73.38500</td>\n",
       "    </tr>\n",
       "    <tr>\n",
       "      <th>50%</th>\n",
       "      <td>7.120000</td>\n",
       "      <td>77.71000</td>\n",
       "    </tr>\n",
       "    <tr>\n",
       "      <th>75%</th>\n",
       "      <td>8.085000</td>\n",
       "      <td>82.32000</td>\n",
       "    </tr>\n",
       "    <tr>\n",
       "      <th>max</th>\n",
       "      <td>8.990000</td>\n",
       "      <td>86.99000</td>\n",
       "    </tr>\n",
       "  </tbody>\n",
       "</table>\n",
       "</div>"
      ],
      "text/plain": [
       "       study_hours  student_marks\n",
       "count   195.000000      200.00000\n",
       "mean      6.995949       77.93375\n",
       "std       1.253060        4.92570\n",
       "min       5.010000       68.57000\n",
       "25%       5.775000       73.38500\n",
       "50%       7.120000       77.71000\n",
       "75%       8.085000       82.32000\n",
       "max       8.990000       86.99000"
      ]
     },
     "execution_count": 34,
     "metadata": {},
     "output_type": "execute_result"
    }
   ],
   "source": [
    "data.describe()"
   ]
  },
  {
   "cell_type": "code",
   "execution_count": 35,
   "id": "6ffde748",
   "metadata": {},
   "outputs": [
    {
     "data": {
      "image/png": "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\n",
      "text/plain": [
       "<Figure size 432x288 with 1 Axes>"
      ]
     },
     "metadata": {
      "needs_background": "light"
     },
     "output_type": "display_data"
    }
   ],
   "source": [
    "plt.scatter(x = data.study_hours , y = data.student_marks)\n",
    "plt.xlabel(\"study hours of student \")\n",
    "plt.ylabel(\"student marks\")\n",
    "plt.show()\n"
   ]
  },
  {
   "cell_type": "code",
   "execution_count": 36,
   "id": "797e870f",
   "metadata": {},
   "outputs": [],
   "source": [
    "# from the graph we are getting that there is linear relation between marks and study of hours\n"
   ]
  },
  {
   "cell_type": "markdown",
   "id": "0ba1ca76",
   "metadata": {},
   "source": [
    "# Prepare the data for machine learning algorithm"
   ]
  },
  {
   "cell_type": "code",
   "execution_count": 37,
   "id": "2faaf7ac",
   "metadata": {},
   "outputs": [
    {
     "data": {
      "text/html": [
       "<div>\n",
       "<style scoped>\n",
       "    .dataframe tbody tr th:only-of-type {\n",
       "        vertical-align: middle;\n",
       "    }\n",
       "\n",
       "    .dataframe tbody tr th {\n",
       "        vertical-align: top;\n",
       "    }\n",
       "\n",
       "    .dataframe thead th {\n",
       "        text-align: right;\n",
       "    }\n",
       "</style>\n",
       "<table border=\"1\" class=\"dataframe\">\n",
       "  <thead>\n",
       "    <tr style=\"text-align: right;\">\n",
       "      <th></th>\n",
       "      <th>study_hours</th>\n",
       "      <th>student_marks</th>\n",
       "    </tr>\n",
       "  </thead>\n",
       "  <tbody>\n",
       "    <tr>\n",
       "      <th>0</th>\n",
       "      <td>False</td>\n",
       "      <td>False</td>\n",
       "    </tr>\n",
       "    <tr>\n",
       "      <th>1</th>\n",
       "      <td>False</td>\n",
       "      <td>False</td>\n",
       "    </tr>\n",
       "    <tr>\n",
       "      <th>2</th>\n",
       "      <td>True</td>\n",
       "      <td>False</td>\n",
       "    </tr>\n",
       "    <tr>\n",
       "      <th>3</th>\n",
       "      <td>False</td>\n",
       "      <td>False</td>\n",
       "    </tr>\n",
       "    <tr>\n",
       "      <th>4</th>\n",
       "      <td>False</td>\n",
       "      <td>False</td>\n",
       "    </tr>\n",
       "    <tr>\n",
       "      <th>...</th>\n",
       "      <td>...</td>\n",
       "      <td>...</td>\n",
       "    </tr>\n",
       "    <tr>\n",
       "      <th>195</th>\n",
       "      <td>False</td>\n",
       "      <td>False</td>\n",
       "    </tr>\n",
       "    <tr>\n",
       "      <th>196</th>\n",
       "      <td>False</td>\n",
       "      <td>False</td>\n",
       "    </tr>\n",
       "    <tr>\n",
       "      <th>197</th>\n",
       "      <td>False</td>\n",
       "      <td>False</td>\n",
       "    </tr>\n",
       "    <tr>\n",
       "      <th>198</th>\n",
       "      <td>False</td>\n",
       "      <td>False</td>\n",
       "    </tr>\n",
       "    <tr>\n",
       "      <th>199</th>\n",
       "      <td>False</td>\n",
       "      <td>False</td>\n",
       "    </tr>\n",
       "  </tbody>\n",
       "</table>\n",
       "<p>200 rows × 2 columns</p>\n",
       "</div>"
      ],
      "text/plain": [
       "     study_hours  student_marks\n",
       "0          False          False\n",
       "1          False          False\n",
       "2           True          False\n",
       "3          False          False\n",
       "4          False          False\n",
       "..           ...            ...\n",
       "195        False          False\n",
       "196        False          False\n",
       "197        False          False\n",
       "198        False          False\n",
       "199        False          False\n",
       "\n",
       "[200 rows x 2 columns]"
      ]
     },
     "execution_count": 37,
     "metadata": {},
     "output_type": "execute_result"
    }
   ],
   "source": [
    "# Data cleaning\n",
    "data.isnull()\n",
    "# this function show the null missing values in data"
   ]
  },
  {
   "cell_type": "code",
   "execution_count": 38,
   "id": "377cac66",
   "metadata": {},
   "outputs": [
    {
     "data": {
      "text/plain": [
       "study_hours      5\n",
       "student_marks    0\n",
       "dtype: int64"
      ]
     },
     "execution_count": 38,
     "metadata": {},
     "output_type": "execute_result"
    }
   ],
   "source": [
    "# here we can see that there is five records in study hours column having null value\n",
    "data.isnull().sum()\n"
   ]
  },
  {
   "cell_type": "code",
   "execution_count": 39,
   "id": "d34a00bb",
   "metadata": {},
   "outputs": [
    {
     "name": "stdout",
     "output_type": "stream",
     "text": [
      "study_hours       6.995949\n",
      "student_marks    77.933750\n",
      "dtype: float64\n"
     ]
    }
   ],
   "source": [
    "# let find the mean of the data feature and place mean value in missing points\n",
    "mean = data.mean()\n",
    "print(mean)\n",
    "clean_data = data.fillna(mean)\n",
    "# mean_std_marks = data['student_marks'].mean()\n",
    "# print(mean_std_marks)\n"
   ]
  },
  {
   "cell_type": "code",
   "execution_count": 40,
   "id": "985bca10",
   "metadata": {},
   "outputs": [
    {
     "data": {
      "text/plain": [
       "study_hours      0\n",
       "student_marks    0\n",
       "dtype: int64"
      ]
     },
     "execution_count": 40,
     "metadata": {},
     "output_type": "execute_result"
    }
   ],
   "source": [
    "# now we can see that there is no missing values in the data frame\n",
    "clean_data.isnull().sum()"
   ]
  },
  {
   "cell_type": "code",
   "execution_count": 41,
   "id": "4b70b054",
   "metadata": {},
   "outputs": [
    {
     "data": {
      "text/html": [
       "<div>\n",
       "<style scoped>\n",
       "    .dataframe tbody tr th:only-of-type {\n",
       "        vertical-align: middle;\n",
       "    }\n",
       "\n",
       "    .dataframe tbody tr th {\n",
       "        vertical-align: top;\n",
       "    }\n",
       "\n",
       "    .dataframe thead th {\n",
       "        text-align: right;\n",
       "    }\n",
       "</style>\n",
       "<table border=\"1\" class=\"dataframe\">\n",
       "  <thead>\n",
       "    <tr style=\"text-align: right;\">\n",
       "      <th></th>\n",
       "      <th>study_hours</th>\n",
       "      <th>student_marks</th>\n",
       "    </tr>\n",
       "  </thead>\n",
       "  <tbody>\n",
       "    <tr>\n",
       "      <th>0</th>\n",
       "      <td>6.830000</td>\n",
       "      <td>78.50</td>\n",
       "    </tr>\n",
       "    <tr>\n",
       "      <th>1</th>\n",
       "      <td>6.560000</td>\n",
       "      <td>76.74</td>\n",
       "    </tr>\n",
       "    <tr>\n",
       "      <th>2</th>\n",
       "      <td>6.995949</td>\n",
       "      <td>78.68</td>\n",
       "    </tr>\n",
       "    <tr>\n",
       "      <th>3</th>\n",
       "      <td>5.670000</td>\n",
       "      <td>71.82</td>\n",
       "    </tr>\n",
       "    <tr>\n",
       "      <th>4</th>\n",
       "      <td>8.670000</td>\n",
       "      <td>84.19</td>\n",
       "    </tr>\n",
       "  </tbody>\n",
       "</table>\n",
       "</div>"
      ],
      "text/plain": [
       "   study_hours  student_marks\n",
       "0     6.830000          78.50\n",
       "1     6.560000          76.74\n",
       "2     6.995949          78.68\n",
       "3     5.670000          71.82\n",
       "4     8.670000          84.19"
      ]
     },
     "execution_count": 41,
     "metadata": {},
     "output_type": "execute_result"
    }
   ],
   "source": [
    "clean_data.head()"
   ]
  },
  {
   "cell_type": "code",
   "execution_count": 42,
   "id": "e287ecdd",
   "metadata": {},
   "outputs": [
    {
     "name": "stdout",
     "output_type": "stream",
     "text": [
      "shape of x =  (200, 1)\n",
      "shape of y =  (200, 1)\n"
     ]
    }
   ],
   "source": [
    "# split dataset\n",
    "\n",
    "x = clean_data.drop('student_marks' , axis = 'columns')\n",
    "y = clean_data.drop('study_hours' , axis = 'columns') \n",
    "\n",
    "print(\"shape of x = \" , x.shape)\n",
    "print(\"shape of y = \" , y.shape)"
   ]
  },
  {
   "cell_type": "code",
   "execution_count": 46,
   "id": "5cc3c81b",
   "metadata": {},
   "outputs": [
    {
     "name": "stdout",
     "output_type": "stream",
     "text": [
      "Collecting sklearn\n",
      "  Downloading sklearn-0.0.tar.gz (1.1 kB)\n",
      "Collecting scikit-learn\n",
      "  Using cached scikit_learn-1.0.2-cp39-cp39-manylinux_2_17_x86_64.manylinux2014_x86_64.whl (26.4 MB)\n",
      "Requirement already satisfied: numpy>=1.14.6 in /home/attaur/anaconda3/envs/Machine_Learning/lib/python3.9/site-packages (from scikit-learn->sklearn) (1.21.2)\n",
      "Collecting joblib>=0.11\n",
      "  Downloading joblib-1.1.0-py2.py3-none-any.whl (306 kB)\n",
      "\u001b[K     |████████████████████████████████| 306 kB 288 kB/s eta 0:00:01\n",
      "\u001b[?25hCollecting scipy>=1.1.0\n",
      "  Using cached scipy-1.8.0-cp39-cp39-manylinux_2_17_x86_64.manylinux2014_x86_64.whl (42.1 MB)\n",
      "Collecting threadpoolctl>=2.0.0\n",
      "  Downloading threadpoolctl-3.1.0-py3-none-any.whl (14 kB)\n",
      "Building wheels for collected packages: sklearn\n",
      "  Building wheel for sklearn (setup.py) ... \u001b[?25ldone\n",
      "\u001b[?25h  Created wheel for sklearn: filename=sklearn-0.0-py2.py3-none-any.whl size=1310 sha256=1f8104bc8bfe824d0cf38ce5f061282cb2226690352fd22c0cb5ad469a36f395\n",
      "  Stored in directory: /home/attaur/.cache/pip/wheels/e4/7b/98/b6466d71b8d738a0c547008b9eb39bf8676d1ff6ca4b22af1c\n",
      "Successfully built sklearn\n",
      "Installing collected packages: threadpoolctl, scipy, joblib, scikit-learn, sklearn\n",
      "Successfully installed joblib-1.1.0 scikit-learn-1.0.2 scipy-1.8.0 sklearn-0.0 threadpoolctl-3.1.0\n"
     ]
    }
   ],
   "source": [
    "# !pip install sklearn\n",
    "# import sklearn\n"
   ]
  },
  {
   "cell_type": "code",
   "execution_count": 48,
   "id": "44af98de",
   "metadata": {},
   "outputs": [],
   "source": [
    "# import sklearn"
   ]
  },
  {
   "cell_type": "code",
   "execution_count": 55,
   "id": "d509e7f1",
   "metadata": {},
   "outputs": [
    {
     "name": "stdout",
     "output_type": "stream",
     "text": [
      "shape of x_train =  (160, 1)\n",
      "shape of y_train =  (160, 1)\n",
      "shape of x_test =  (40, 1)\n",
      "shape of y_test =  (40, 1)\n"
     ]
    }
   ],
   "source": [
    "from sklearn.model_selection import train_test_split\n",
    "x_train , x_test , y_train , y_test = train_test_split(x , y , test_size=0.2 , random_state=51)\n",
    "\n",
    "print(\"shape of x_train = \" , x_train.shape)\n",
    "print(\"shape of y_train = \" , y_train.shape)\n",
    "print(\"shape of x_test = \" , x_test.shape)\n",
    "print(\"shape of y_test = \" , y_test.shape)\n"
   ]
  },
  {
   "cell_type": "markdown",
   "id": "8906f22d",
   "metadata": {},
   "source": [
    "# select a  model and train it"
   ]
  },
  {
   "cell_type": "code",
   "execution_count": 56,
   "id": "34e234b2",
   "metadata": {},
   "outputs": [],
   "source": [
    "# from the scatter chart we are get that our data has linear relation with each othe \n",
    "# so will will use linear regration model here\n",
    "# y = m * x + c\n",
    "from sklearn.linear_model import LinearRegression\n",
    "\n",
    "lr = LinearRegression()\n"
   ]
  },
  {
   "cell_type": "code",
   "execution_count": 57,
   "id": "b5d003a7",
   "metadata": {},
   "outputs": [
    {
     "data": {
      "text/plain": [
       "LinearRegression()"
      ]
     },
     "execution_count": 57,
     "metadata": {},
     "output_type": "execute_result"
    }
   ],
   "source": [
    "lr.fit(x_train , y_train)"
   ]
  },
  {
   "cell_type": "code",
   "execution_count": 62,
   "id": "40ac50a1",
   "metadata": {},
   "outputs": [
    {
     "name": "stdout",
     "output_type": "stream",
     "text": [
      "[[3.93571802]]\n",
      "[50.44735504]\n"
     ]
    }
   ],
   "source": [
    "coefieient_m = lr.coef_\n",
    "intercept_c = lr.intercept_\n",
    "print(coefieient_m)\n",
    "print(intercept_c)"
   ]
  },
  {
   "cell_type": "code",
   "execution_count": 66,
   "id": "5ad03252",
   "metadata": {},
   "outputs": [
    {
     "name": "stdout",
     "output_type": "stream",
     "text": [
      "84.5700302734\n"
     ]
    }
   ],
   "source": [
    "# # now put values in quation\n",
    "# y = 3.93571802 * 8.670000 + 50.44735504\n",
    "# # print(y)"
   ]
  },
  {
   "cell_type": "code",
   "execution_count": 75,
   "id": "05fa906d",
   "metadata": {},
   "outputs": [
    {
     "name": "stderr",
     "output_type": "stream",
     "text": [
      "/home/attaur/anaconda3/envs/Machine_Learning/lib/python3.9/site-packages/sklearn/base.py:450: UserWarning: X does not have valid feature names, but LinearRegression was fitted with feature names\n",
      "  warnings.warn(\n"
     ]
    },
    {
     "data": {
      "text/plain": [
       "66.19"
      ]
     },
     "execution_count": 75,
     "metadata": {},
     "output_type": "execute_result"
    }
   ],
   "source": [
    "# predict values manually\n",
    "lr.predict([[4]])[0][0].round(2)"
   ]
  },
  {
   "cell_type": "code",
   "execution_count": 86,
   "id": "d5f8baf9",
   "metadata": {},
   "outputs": [],
   "source": [
    "# here predict all the test data data\n",
    "y_pred =lr.predict(x_test).round(2)"
   ]
  },
  {
   "cell_type": "code",
   "execution_count": 90,
   "id": "55158d18",
   "metadata": {},
   "outputs": [
    {
     "data": {
      "text/plain": [
       "array([[83.11],\n",
       "       [78.9 ],\n",
       "       [84.57],\n",
       "       [85.83],\n",
       "       [84.73],\n",
       "       [80.75],\n",
       "       [72.84],\n",
       "       [71.66],\n",
       "       [73.24],\n",
       "       [71.66],\n",
       "       [73.47],\n",
       "       [76.38],\n",
       "       [73.24],\n",
       "       [73.59],\n",
       "       [82.96],\n",
       "       [70.4 ],\n",
       "       [73.24],\n",
       "       [78.75],\n",
       "       [75.56],\n",
       "       [82.68],\n",
       "       [76.66],\n",
       "       [70.48],\n",
       "       [74.77],\n",
       "       [77.98],\n",
       "       [85.59],\n",
       "       [82.56],\n",
       "       [76.42],\n",
       "       [85.04],\n",
       "       [78.39],\n",
       "       [81.38],\n",
       "       [81.74],\n",
       "       [83.15],\n",
       "       [82.21],\n",
       "       [81.11],\n",
       "       [73.59],\n",
       "       [71.15],\n",
       "       [71.9 ],\n",
       "       [81.54],\n",
       "       [72.61],\n",
       "       [71.94]])"
      ]
     },
     "execution_count": 90,
     "metadata": {},
     "output_type": "execute_result"
    }
   ],
   "source": [
    "y_pred"
   ]
  },
  {
   "cell_type": "markdown",
   "id": "c57b80c9",
   "metadata": {},
   "source": [
    "# now we compare the actual and predicted values"
   ]
  },
  {
   "cell_type": "code",
   "execution_count": 92,
   "id": "1d3e87c4",
   "metadata": {},
   "outputs": [
    {
     "data": {
      "text/html": [
       "<div>\n",
       "<style scoped>\n",
       "    .dataframe tbody tr th:only-of-type {\n",
       "        vertical-align: middle;\n",
       "    }\n",
       "\n",
       "    .dataframe tbody tr th {\n",
       "        vertical-align: top;\n",
       "    }\n",
       "\n",
       "    .dataframe thead th {\n",
       "        text-align: right;\n",
       "    }\n",
       "</style>\n",
       "<table border=\"1\" class=\"dataframe\">\n",
       "  <thead>\n",
       "    <tr style=\"text-align: right;\">\n",
       "      <th></th>\n",
       "      <th>study_hours</th>\n",
       "      <th>std_actual_marks</th>\n",
       "      <th>std_predicted_marks</th>\n",
       "    </tr>\n",
       "  </thead>\n",
       "  <tbody>\n",
       "    <tr>\n",
       "      <th>0</th>\n",
       "      <td>8.300000</td>\n",
       "      <td>82.02</td>\n",
       "      <td>83.11</td>\n",
       "    </tr>\n",
       "    <tr>\n",
       "      <th>1</th>\n",
       "      <td>7.230000</td>\n",
       "      <td>77.55</td>\n",
       "      <td>78.90</td>\n",
       "    </tr>\n",
       "    <tr>\n",
       "      <th>2</th>\n",
       "      <td>8.670000</td>\n",
       "      <td>84.19</td>\n",
       "      <td>84.57</td>\n",
       "    </tr>\n",
       "    <tr>\n",
       "      <th>3</th>\n",
       "      <td>8.990000</td>\n",
       "      <td>85.46</td>\n",
       "      <td>85.83</td>\n",
       "    </tr>\n",
       "    <tr>\n",
       "      <th>4</th>\n",
       "      <td>8.710000</td>\n",
       "      <td>84.03</td>\n",
       "      <td>84.73</td>\n",
       "    </tr>\n",
       "    <tr>\n",
       "      <th>5</th>\n",
       "      <td>7.700000</td>\n",
       "      <td>80.81</td>\n",
       "      <td>80.75</td>\n",
       "    </tr>\n",
       "    <tr>\n",
       "      <th>6</th>\n",
       "      <td>5.690000</td>\n",
       "      <td>73.61</td>\n",
       "      <td>72.84</td>\n",
       "    </tr>\n",
       "    <tr>\n",
       "      <th>7</th>\n",
       "      <td>5.390000</td>\n",
       "      <td>70.90</td>\n",
       "      <td>71.66</td>\n",
       "    </tr>\n",
       "    <tr>\n",
       "      <th>8</th>\n",
       "      <td>5.790000</td>\n",
       "      <td>73.14</td>\n",
       "      <td>73.24</td>\n",
       "    </tr>\n",
       "    <tr>\n",
       "      <th>9</th>\n",
       "      <td>5.390000</td>\n",
       "      <td>73.02</td>\n",
       "      <td>71.66</td>\n",
       "    </tr>\n",
       "    <tr>\n",
       "      <th>10</th>\n",
       "      <td>5.850000</td>\n",
       "      <td>75.02</td>\n",
       "      <td>73.47</td>\n",
       "    </tr>\n",
       "    <tr>\n",
       "      <th>11</th>\n",
       "      <td>6.590000</td>\n",
       "      <td>75.37</td>\n",
       "      <td>76.38</td>\n",
       "    </tr>\n",
       "    <tr>\n",
       "      <th>12</th>\n",
       "      <td>5.790000</td>\n",
       "      <td>74.44</td>\n",
       "      <td>73.24</td>\n",
       "    </tr>\n",
       "    <tr>\n",
       "      <th>13</th>\n",
       "      <td>5.880000</td>\n",
       "      <td>73.40</td>\n",
       "      <td>73.59</td>\n",
       "    </tr>\n",
       "    <tr>\n",
       "      <th>14</th>\n",
       "      <td>8.260000</td>\n",
       "      <td>81.70</td>\n",
       "      <td>82.96</td>\n",
       "    </tr>\n",
       "    <tr>\n",
       "      <th>15</th>\n",
       "      <td>5.070000</td>\n",
       "      <td>69.27</td>\n",
       "      <td>70.40</td>\n",
       "    </tr>\n",
       "    <tr>\n",
       "      <th>16</th>\n",
       "      <td>5.790000</td>\n",
       "      <td>73.64</td>\n",
       "      <td>73.24</td>\n",
       "    </tr>\n",
       "    <tr>\n",
       "      <th>17</th>\n",
       "      <td>7.190000</td>\n",
       "      <td>77.63</td>\n",
       "      <td>78.75</td>\n",
       "    </tr>\n",
       "    <tr>\n",
       "      <th>18</th>\n",
       "      <td>6.380000</td>\n",
       "      <td>77.01</td>\n",
       "      <td>75.56</td>\n",
       "    </tr>\n",
       "    <tr>\n",
       "      <th>19</th>\n",
       "      <td>8.190000</td>\n",
       "      <td>83.08</td>\n",
       "      <td>82.68</td>\n",
       "    </tr>\n",
       "    <tr>\n",
       "      <th>20</th>\n",
       "      <td>6.660000</td>\n",
       "      <td>76.63</td>\n",
       "      <td>76.66</td>\n",
       "    </tr>\n",
       "    <tr>\n",
       "      <th>21</th>\n",
       "      <td>5.090000</td>\n",
       "      <td>72.22</td>\n",
       "      <td>70.48</td>\n",
       "    </tr>\n",
       "    <tr>\n",
       "      <th>22</th>\n",
       "      <td>6.180000</td>\n",
       "      <td>72.96</td>\n",
       "      <td>74.77</td>\n",
       "    </tr>\n",
       "    <tr>\n",
       "      <th>23</th>\n",
       "      <td>6.995949</td>\n",
       "      <td>76.14</td>\n",
       "      <td>77.98</td>\n",
       "    </tr>\n",
       "    <tr>\n",
       "      <th>24</th>\n",
       "      <td>8.930000</td>\n",
       "      <td>85.96</td>\n",
       "      <td>85.59</td>\n",
       "    </tr>\n",
       "    <tr>\n",
       "      <th>25</th>\n",
       "      <td>8.160000</td>\n",
       "      <td>83.36</td>\n",
       "      <td>82.56</td>\n",
       "    </tr>\n",
       "    <tr>\n",
       "      <th>26</th>\n",
       "      <td>6.600000</td>\n",
       "      <td>78.05</td>\n",
       "      <td>76.42</td>\n",
       "    </tr>\n",
       "    <tr>\n",
       "      <th>27</th>\n",
       "      <td>8.790000</td>\n",
       "      <td>84.60</td>\n",
       "      <td>85.04</td>\n",
       "    </tr>\n",
       "    <tr>\n",
       "      <th>28</th>\n",
       "      <td>7.100000</td>\n",
       "      <td>76.76</td>\n",
       "      <td>78.39</td>\n",
       "    </tr>\n",
       "    <tr>\n",
       "      <th>29</th>\n",
       "      <td>7.860000</td>\n",
       "      <td>81.24</td>\n",
       "      <td>81.38</td>\n",
       "    </tr>\n",
       "    <tr>\n",
       "      <th>30</th>\n",
       "      <td>7.950000</td>\n",
       "      <td>80.86</td>\n",
       "      <td>81.74</td>\n",
       "    </tr>\n",
       "    <tr>\n",
       "      <th>31</th>\n",
       "      <td>8.310000</td>\n",
       "      <td>82.69</td>\n",
       "      <td>83.15</td>\n",
       "    </tr>\n",
       "    <tr>\n",
       "      <th>32</th>\n",
       "      <td>8.070000</td>\n",
       "      <td>82.30</td>\n",
       "      <td>82.21</td>\n",
       "    </tr>\n",
       "    <tr>\n",
       "      <th>33</th>\n",
       "      <td>7.790000</td>\n",
       "      <td>79.17</td>\n",
       "      <td>81.11</td>\n",
       "    </tr>\n",
       "    <tr>\n",
       "      <th>34</th>\n",
       "      <td>5.880000</td>\n",
       "      <td>73.34</td>\n",
       "      <td>73.59</td>\n",
       "    </tr>\n",
       "    <tr>\n",
       "      <th>35</th>\n",
       "      <td>5.260000</td>\n",
       "      <td>71.86</td>\n",
       "      <td>71.15</td>\n",
       "    </tr>\n",
       "    <tr>\n",
       "      <th>36</th>\n",
       "      <td>5.450000</td>\n",
       "      <td>70.06</td>\n",
       "      <td>71.90</td>\n",
       "    </tr>\n",
       "    <tr>\n",
       "      <th>37</th>\n",
       "      <td>7.900000</td>\n",
       "      <td>80.76</td>\n",
       "      <td>81.54</td>\n",
       "    </tr>\n",
       "    <tr>\n",
       "      <th>38</th>\n",
       "      <td>5.630000</td>\n",
       "      <td>72.87</td>\n",
       "      <td>72.61</td>\n",
       "    </tr>\n",
       "    <tr>\n",
       "      <th>39</th>\n",
       "      <td>5.460000</td>\n",
       "      <td>71.10</td>\n",
       "      <td>71.94</td>\n",
       "    </tr>\n",
       "  </tbody>\n",
       "</table>\n",
       "</div>"
      ],
      "text/plain": [
       "    study_hours  std_actual_marks  std_predicted_marks\n",
       "0      8.300000             82.02                83.11\n",
       "1      7.230000             77.55                78.90\n",
       "2      8.670000             84.19                84.57\n",
       "3      8.990000             85.46                85.83\n",
       "4      8.710000             84.03                84.73\n",
       "5      7.700000             80.81                80.75\n",
       "6      5.690000             73.61                72.84\n",
       "7      5.390000             70.90                71.66\n",
       "8      5.790000             73.14                73.24\n",
       "9      5.390000             73.02                71.66\n",
       "10     5.850000             75.02                73.47\n",
       "11     6.590000             75.37                76.38\n",
       "12     5.790000             74.44                73.24\n",
       "13     5.880000             73.40                73.59\n",
       "14     8.260000             81.70                82.96\n",
       "15     5.070000             69.27                70.40\n",
       "16     5.790000             73.64                73.24\n",
       "17     7.190000             77.63                78.75\n",
       "18     6.380000             77.01                75.56\n",
       "19     8.190000             83.08                82.68\n",
       "20     6.660000             76.63                76.66\n",
       "21     5.090000             72.22                70.48\n",
       "22     6.180000             72.96                74.77\n",
       "23     6.995949             76.14                77.98\n",
       "24     8.930000             85.96                85.59\n",
       "25     8.160000             83.36                82.56\n",
       "26     6.600000             78.05                76.42\n",
       "27     8.790000             84.60                85.04\n",
       "28     7.100000             76.76                78.39\n",
       "29     7.860000             81.24                81.38\n",
       "30     7.950000             80.86                81.74\n",
       "31     8.310000             82.69                83.15\n",
       "32     8.070000             82.30                82.21\n",
       "33     7.790000             79.17                81.11\n",
       "34     5.880000             73.34                73.59\n",
       "35     5.260000             71.86                71.15\n",
       "36     5.450000             70.06                71.90\n",
       "37     7.900000             80.76                81.54\n",
       "38     5.630000             72.87                72.61\n",
       "39     5.460000             71.10                71.94"
      ]
     },
     "execution_count": 92,
     "metadata": {},
     "output_type": "execute_result"
    }
   ],
   "source": [
    "pd.DataFrame(np.c_[x_test , y_test , y_pred] , columns = [\"study_hours\" , \"std_actual_marks\" , 'std_predicted_marks'])"
   ]
  },
  {
   "cell_type": "code",
   "execution_count": 94,
   "id": "6455a5bf",
   "metadata": {},
   "outputs": [
    {
     "data": {
      "text/plain": [
       "0.9514124242154464"
      ]
     },
     "execution_count": 94,
     "metadata": {},
     "output_type": "execute_result"
    }
   ],
   "source": [
    "# here we check the accuracy of the model\n",
    "lr.score(x_test , y_test)\n"
   ]
  },
  {
   "cell_type": "code",
   "execution_count": 97,
   "id": "f25e5757",
   "metadata": {},
   "outputs": [
    {
     "data": {
      "image/png": "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\n",
      "text/plain": [
       "<Figure size 432x288 with 1 Axes>"
      ]
     },
     "metadata": {
      "needs_background": "light"
     },
     "output_type": "display_data"
    }
   ],
   "source": [
    "plt.scatter(x_train , y_train)\n",
    "plt.show()"
   ]
  },
  {
   "cell_type": "code",
   "execution_count": 102,
   "id": "dfa719df",
   "metadata": {},
   "outputs": [
    {
     "data": {
      "image/png": "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\n",
      "text/plain": [
       "<Figure size 432x288 with 1 Axes>"
      ]
     },
     "metadata": {
      "needs_background": "light"
     },
     "output_type": "display_data"
    }
   ],
   "source": [
    "plt.scatter(x_test , y_test)\n",
    "plt.show()"
   ]
  },
  {
   "cell_type": "code",
   "execution_count": null,
   "id": "f1cf6dce",
   "metadata": {},
   "outputs": [],
   "source": []
  }
 ],
 "metadata": {
  "kernelspec": {
   "display_name": "Python 3 (ipykernel)",
   "language": "python",
   "name": "python3"
  },
  "language_info": {
   "codemirror_mode": {
    "name": "ipython",
    "version": 3
   },
   "file_extension": ".py",
   "mimetype": "text/x-python",
   "name": "python",
   "nbconvert_exporter": "python",
   "pygments_lexer": "ipython3",
   "version": "3.9.11"
  }
 },
 "nbformat": 4,
 "nbformat_minor": 5
}
